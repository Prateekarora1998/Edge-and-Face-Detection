{
 "cells": [
  {
   "cell_type": "code",
   "execution_count": 1,
   "metadata": {},
   "outputs": [
    {
     "data": {
      "text/plain": [
       "<Figure size 640x480 with 1 Axes>"
      ]
     },
     "metadata": {},
     "output_type": "display_data"
    },
    {
     "data": {
      "text/plain": [
       "<Figure size 640x480 with 1 Axes>"
      ]
     },
     "metadata": {},
     "output_type": "display_data"
    },
    {
     "data": {
      "text/plain": [
       "<Figure size 640x480 with 1 Axes>"
      ]
     },
     "metadata": {},
     "output_type": "display_data"
    },
    {
     "data": {
      "text/plain": [
       "<Figure size 640x480 with 1 Axes>"
      ]
     },
     "metadata": {},
     "output_type": "display_data"
    },
    {
     "data": {
      "text/plain": [
       "<Figure size 640x480 with 1 Axes>"
      ]
     },
     "metadata": {},
     "output_type": "display_data"
    },
    {
     "data": {
      "text/plain": [
       "<Figure size 640x480 with 1 Axes>"
      ]
     },
     "metadata": {},
     "output_type": "display_data"
    },
    {
     "data": {
      "text/plain": [
       "<Figure size 640x480 with 1 Axes>"
      ]
     },
     "metadata": {},
     "output_type": "display_data"
    },
    {
     "data": {
      "text/plain": [
       "<Figure size 640x480 with 1 Axes>"
      ]
     },
     "metadata": {},
     "output_type": "display_data"
    },
    {
     "data": {
      "text/plain": [
       "<Figure size 640x480 with 1 Axes>"
      ]
     },
     "metadata": {},
     "output_type": "display_data"
    },
    {
     "data": {
      "text/plain": [
       "<Figure size 640x480 with 1 Axes>"
      ]
     },
     "metadata": {},
     "output_type": "display_data"
    },
    {
     "data": {
      "text/plain": [
       "<Figure size 640x480 with 1 Axes>"
      ]
     },
     "metadata": {},
     "output_type": "display_data"
    },
    {
     "data": {
      "text/plain": [
       "<Figure size 640x480 with 1 Axes>"
      ]
     },
     "metadata": {},
     "output_type": "display_data"
    },
    {
     "data": {
      "text/plain": [
       "<Figure size 640x480 with 1 Axes>"
      ]
     },
     "metadata": {},
     "output_type": "display_data"
    },
    {
     "data": {
      "text/plain": [
       "<Figure size 640x480 with 1 Axes>"
      ]
     },
     "metadata": {},
     "output_type": "display_data"
    },
    {
     "data": {
      "text/plain": [
       "<Figure size 640x480 with 1 Axes>"
      ]
     },
     "metadata": {},
     "output_type": "display_data"
    },
    {
     "data": {
      "text/plain": [
       "<Figure size 640x480 with 1 Axes>"
      ]
     },
     "metadata": {},
     "output_type": "display_data"
    },
    {
     "data": {
      "text/plain": [
       "<Figure size 640x480 with 1 Axes>"
      ]
     },
     "metadata": {},
     "output_type": "display_data"
    },
    {
     "data": {
      "text/plain": [
       "<Figure size 640x480 with 1 Axes>"
      ]
     },
     "metadata": {},
     "output_type": "display_data"
    },
    {
     "data": {
      "text/plain": [
       "<Figure size 640x480 with 1 Axes>"
      ]
     },
     "metadata": {},
     "output_type": "display_data"
    },
    {
     "data": {
      "text/plain": [
       "<Figure size 640x480 with 1 Axes>"
      ]
     },
     "metadata": {},
     "output_type": "display_data"
    },
    {
     "data": {
      "text/plain": [
       "<Figure size 640x480 with 1 Axes>"
      ]
     },
     "metadata": {},
     "output_type": "display_data"
    },
    {
     "data": {
      "text/plain": [
       "<Figure size 640x480 with 1 Axes>"
      ]
     },
     "metadata": {},
     "output_type": "display_data"
    },
    {
     "data": {
      "text/plain": [
       "<Figure size 640x480 with 1 Axes>"
      ]
     },
     "metadata": {},
     "output_type": "display_data"
    },
    {
     "data": {
      "text/plain": [
       "<Figure size 640x480 with 1 Axes>"
      ]
     },
     "metadata": {},
     "output_type": "display_data"
    },
    {
     "data": {
      "text/plain": [
       "<Figure size 640x480 with 1 Axes>"
      ]
     },
     "metadata": {},
     "output_type": "display_data"
    },
    {
     "data": {
      "text/plain": [
       "<Figure size 640x480 with 1 Axes>"
      ]
     },
     "metadata": {},
     "output_type": "display_data"
    },
    {
     "data": {
      "text/plain": [
       "<Figure size 640x480 with 1 Axes>"
      ]
     },
     "metadata": {},
     "output_type": "display_data"
    },
    {
     "data": {
      "text/plain": [
       "<Figure size 640x480 with 1 Axes>"
      ]
     },
     "metadata": {},
     "output_type": "display_data"
    },
    {
     "data": {
      "text/plain": [
       "<Figure size 640x480 with 1 Axes>"
      ]
     },
     "metadata": {},
     "output_type": "display_data"
    },
    {
     "data": {
      "text/plain": [
       "<Figure size 640x480 with 1 Axes>"
      ]
     },
     "metadata": {},
     "output_type": "display_data"
    },
    {
     "data": {
      "text/plain": [
       "<Figure size 640x480 with 1 Axes>"
      ]
     },
     "metadata": {},
     "output_type": "display_data"
    },
    {
     "data": {
      "text/plain": [
       "<Figure size 640x480 with 1 Axes>"
      ]
     },
     "metadata": {},
     "output_type": "display_data"
    },
    {
     "data": {
      "text/plain": [
       "<Figure size 640x480 with 1 Axes>"
      ]
     },
     "metadata": {},
     "output_type": "display_data"
    },
    {
     "data": {
      "text/plain": [
       "<Figure size 640x480 with 1 Axes>"
      ]
     },
     "metadata": {},
     "output_type": "display_data"
    },
    {
     "data": {
      "text/plain": [
       "<Figure size 640x480 with 1 Axes>"
      ]
     },
     "metadata": {},
     "output_type": "display_data"
    },
    {
     "data": {
      "text/plain": [
       "<Figure size 640x480 with 1 Axes>"
      ]
     },
     "metadata": {},
     "output_type": "display_data"
    },
    {
     "data": {
      "text/plain": [
       "<Figure size 640x480 with 1 Axes>"
      ]
     },
     "metadata": {},
     "output_type": "display_data"
    },
    {
     "data": {
      "text/plain": [
       "<Figure size 640x480 with 1 Axes>"
      ]
     },
     "metadata": {},
     "output_type": "display_data"
    },
    {
     "data": {
      "text/plain": [
       "<Figure size 640x480 with 1 Axes>"
      ]
     },
     "metadata": {},
     "output_type": "display_data"
    },
    {
     "data": {
      "text/plain": [
       "<Figure size 640x480 with 1 Axes>"
      ]
     },
     "metadata": {},
     "output_type": "display_data"
    },
    {
     "data": {
      "text/plain": [
       "<Figure size 640x480 with 1 Axes>"
      ]
     },
     "metadata": {},
     "output_type": "display_data"
    },
    {
     "data": {
      "text/plain": [
       "<Figure size 640x480 with 1 Axes>"
      ]
     },
     "metadata": {},
     "output_type": "display_data"
    },
    {
     "data": {
      "text/plain": [
       "<Figure size 640x480 with 1 Axes>"
      ]
     },
     "metadata": {},
     "output_type": "display_data"
    },
    {
     "data": {
      "text/plain": [
       "<Figure size 640x480 with 1 Axes>"
      ]
     },
     "metadata": {},
     "output_type": "display_data"
    },
    {
     "data": {
      "text/plain": [
       "<Figure size 640x480 with 1 Axes>"
      ]
     },
     "metadata": {},
     "output_type": "display_data"
    },
    {
     "data": {
      "text/plain": [
       "<Figure size 640x480 with 1 Axes>"
      ]
     },
     "metadata": {},
     "output_type": "display_data"
    },
    {
     "data": {
      "text/plain": [
       "<Figure size 640x480 with 1 Axes>"
      ]
     },
     "metadata": {},
     "output_type": "display_data"
    },
    {
     "data": {
      "text/plain": [
       "<Figure size 640x480 with 1 Axes>"
      ]
     },
     "metadata": {},
     "output_type": "display_data"
    },
    {
     "data": {
      "text/plain": [
       "<Figure size 640x480 with 1 Axes>"
      ]
     },
     "metadata": {},
     "output_type": "display_data"
    },
    {
     "data": {
      "text/plain": [
       "<Figure size 640x480 with 1 Axes>"
      ]
     },
     "metadata": {},
     "output_type": "display_data"
    },
    {
     "data": {
      "text/plain": [
       "<Figure size 640x480 with 1 Axes>"
      ]
     },
     "metadata": {},
     "output_type": "display_data"
    },
    {
     "data": {
      "text/plain": [
       "<Figure size 640x480 with 1 Axes>"
      ]
     },
     "metadata": {},
     "output_type": "display_data"
    },
    {
     "data": {
      "text/plain": [
       "<Figure size 640x480 with 1 Axes>"
      ]
     },
     "metadata": {},
     "output_type": "display_data"
    },
    {
     "data": {
      "text/plain": [
       "<Figure size 640x480 with 1 Axes>"
      ]
     },
     "metadata": {},
     "output_type": "display_data"
    },
    {
     "data": {
      "text/plain": [
       "<Figure size 640x480 with 1 Axes>"
      ]
     },
     "metadata": {},
     "output_type": "display_data"
    },
    {
     "data": {
      "text/plain": [
       "<Figure size 640x480 with 1 Axes>"
      ]
     },
     "metadata": {},
     "output_type": "display_data"
    },
    {
     "data": {
      "text/plain": [
       "<Figure size 640x480 with 1 Axes>"
      ]
     },
     "metadata": {},
     "output_type": "display_data"
    },
    {
     "data": {
      "text/plain": [
       "<Figure size 640x480 with 1 Axes>"
      ]
     },
     "metadata": {},
     "output_type": "display_data"
    },
    {
     "data": {
      "text/plain": [
       "<Figure size 640x480 with 1 Axes>"
      ]
     },
     "metadata": {},
     "output_type": "display_data"
    }
   ],
   "source": [
    "import glob\n",
    "import matplotlib.pyplot as plt\n",
    "import numpy as np\n",
    "import pandas as pd\n",
    "import cv2\n",
    "\n",
    "##### Q1\n",
    "my_image_array = []\n",
    "\n",
    "for a in glob.glob('Yale-FaceA/trainingset/*.png'):\n",
    "    my_image = cv2.imread(a,0)  ## Reading the images from the training dataset\n",
    "    my_image = np.asarray(my_image,dtype = 'uint8') ## Store the values in an array\n",
    "    my_image_array.append(my_image) ## Append the values in a list\n",
    "    \n",
    "image_extracted = my_image_array[:][135:144] # These images are \"my images\" which are basically are not of the same size as other images\n",
    "\n",
    "for i in range(9):\n",
    "    image_extracted[i] = cv2.resize(image_extracted[i],(195,231)) ## Resizing the images\n",
    "    \n",
    "cv2.imwrite(\"Yale-FaceA/trainingset/subject16.confused.png\",image_extracted[0])  ## Saving the images after resizing for the further usage.\n",
    "cv2.imwrite(\"Yale-FaceA/trainingset/subject16.doubt.png\",image_extracted[1])  ## Saving the images after resizing for the further usage.\n",
    "cv2.imwrite(\"Yale-FaceA/trainingset/subject16.fine.png\",image_extracted[2])   ## Saving the images after resizing for the further usage.\n",
    "cv2.imwrite(\"Yale-FaceA/trainingset/subject16.happy.png\",image_extracted[3])   ## Saving the images after resizing for the further usage.\n",
    "cv2.imwrite(\"Yale-FaceA/trainingset/subject16.ignorance.png\",image_extracted[4])   ## Saving the images after resizing for the further usage.\n",
    "cv2.imwrite(\"Yale-FaceA/trainingset/subject16.laughing.png\",image_extracted[5])  ## Saving the images after resizing for the further usage.\n",
    "cv2.imwrite(\"Yale-FaceA/trainingset/subject16.shocked.png\",image_extracted[6])  ## Saving the images after resizing for the further usage.\n",
    "cv2.imwrite(\"Yale-FaceA/trainingset/subject16.smile.png\",image_extracted[7])  ## Saving the images after resizing for the further usage.\n",
    "cv2.imwrite(\"Yale-FaceA/trainingset/subject16.thinking.png\",image_extracted[8])  ## Saving the images after resizing for the further usage.\n",
    "\n",
    "##### Q2\n",
    "\n",
    "### i)\n",
    "\n",
    "image_array_formed = []\n",
    "flattened = []\n",
    "\n",
    "for a in glob.glob('Yale-FaceA/trainingset/*.png'):\n",
    "    my_image = cv2.imread(a,0) # Reading the images from the training dataset\n",
    "    my_image = np.asarray(my_image,dtype = 'uint8')\n",
    "    image_array_formed.append(my_image) ## Append the values in the list\n",
    "    \n",
    "image_array_formed = image_array_formed[:][:135]    \n",
    "\n",
    "for j in range(len(image_array_formed)):\n",
    "    k = image_array_formed[j].flatten() ## Flattening of the image\n",
    "    flattened.append(k) ## Appending the flattened images in a list\n",
    "    \n",
    "A_t_matrix = np.matrix(flattened) ## Converting the flattened image list to an matrix\n",
    "\n",
    "### ii)\n",
    "\n",
    "mean_matrix = np.mean(A_t_matrix.T, 1)  # Calculating mean of the matrix \n",
    "mean_array = np.asarray(mean_matrix, dtype = 'uint8')\n",
    "mean_array = np.reshape(mean_array,(231,195)) # Reshapeing the image so as to plot the mean face\n",
    "plt.title(\"Mean face\")\n",
    "plt.imshow(mean_array, cmap = \"gray\")\n",
    "plt.show()\n",
    "\n",
    "A_t_matrix = A_t_matrix.T - mean_matrix #Normalizing the matrix\n",
    "\n",
    "Covariance_matrix = (A_t_matrix.T@A_t_matrix/(len(A_t_matrix) - 1))  ## Calculating the covariance of the matrix\n",
    "\n",
    "u,v = np.linalg.eigh(Covariance_matrix) ## Calculating the eigenvector and eigenvalues\n",
    "\n",
    "u = u.tolist()\n",
    "u_index = sorted(range(len(u)), key=lambda k: u[k]) # Getting the index of the sorted array\n",
    "u = sorted(u, reverse=True)\n",
    "u = np.matrix(u)\n",
    "\n",
    "v = v.tolist()\n",
    "v.sort(key = lambda u_index: u_index) # Sorting the eigenvectors according to the index of the eigenvalues\n",
    "v = np.asmatrix(v)\n",
    "v = v[::-1]\n",
    "\n",
    "eigen_faces = np.dot(A_t_matrix,v) # Dot product of the two matrix to make eigenface\n",
    "\n",
    "eigen_faces = eigen_faces.T\n",
    "\n",
    "### iii)\n",
    "\n",
    "k = 10\n",
    "\n",
    "### Plotting of the top k principal components\n",
    "\n",
    "for i in range(k):\n",
    "    new_im = eigen_faces[:][i]\n",
    "    new_im = new_im.T\n",
    "    new_im = np.reshape(new_im,(231,195))\n",
    "    plt.imshow(new_im, cmap = \"gray\")\n",
    "    plt.title(str(int(i)) + \" \" + \"Principal Component\")\n",
    "    plt.show()\n",
    "\n",
    "### iv) \n",
    "\n",
    "training_weights = A_t_matrix.T@eigen_faces[:10][:].T # Top 10 principal components is used for the training weights\n",
    "\n",
    "testing_image_array_formed = []\n",
    "testing_flattened = []\n",
    "\n",
    "for i in glob.glob('Yale-FaceA/testset/*.png'):\n",
    "    im = cv2.imread(i,0) # Reading the test image dataset\n",
    "    im = np.asarray(im, dtype = 'uint8') ## Conversion of the matrix\n",
    "    testing_image_array_formed.append(im) ## Appending the values in the list\n",
    "\n",
    "## Conversion of test image to appropriate size#########    \n",
    "my_test_image = testing_image_array_formed[:][10] ## Extracting \"my image\" from the dataset to change the size of the image\n",
    "\n",
    "my_test_image = cv2.resize(my_test_image,(195,231)) ## Resizing the image\n",
    "\n",
    "cv2.imwrite('Yale-FaceA/testset/subject16.normal.png',my_test_image) # Storing the image the test dataset\n",
    "#################################################\n",
    "testing_image_array_formed = testing_image_array_formed[:10] ## \"My image\" is not considered for testing because it is not required for this partof the question\n",
    "    \n",
    "for j in range(len(testing_image_array_formed)):\n",
    "    k = testing_image_array_formed[j].flatten()  ## Flattening of the image\n",
    "    testing_flattened.append(k) ## Appending the flattened image into a list\n",
    "B_testing_matrix = np.matrix(testing_flattened)\n",
    "\n",
    "Normalized_test = B_testing_matrix.T - mean_matrix # Normalization of the test image matrix\n",
    "\n",
    "testing_weights = Normalized_test.T@eigen_faces[:10][:].T # Top 10 principal components is used for the testing weights\n",
    "\n",
    "val = np.zeros((10,135))\n",
    "diff_array = []\n",
    "\n",
    "for i in range(10):\n",
    "    for j in range(135):\n",
    "        val[i][j] = np.linalg.norm(training_weights[:][j] - testing_weights[:][i]) # Calculating the norm for the image so as to the difference between the images and it is easier to see which one is closer\n",
    "        \n",
    "sort_index_array1 = np.zeros((10,3))\n",
    "\n",
    "for b in range(10):\n",
    "    sort_index_array = sorted(range(len(val[b][:])), key=lambda k: val[b][:][k]) # Sorting the array and extracting the index accordingly\n",
    "    sort_index_array1[b][:] = sort_index_array[:3]\n",
    "\n",
    "## Plotting of the images    \n",
    "for l in range(10):\n",
    "    for m in range(3):\n",
    "        plt.title(\"Training image who is most similar with test image of index\" + str(int(l)))\n",
    "        plt.imshow(image_array_formed[int(sort_index_array1[:][l][m])], cmap = \"gray\")\n",
    "        plt.show()\n",
    "    plt.title(\"Testing Image of Index\" + str(int(l)))\n",
    "    plt.imshow(testing_image_array_formed[l], cmap = \"gray\")\n",
    "    plt.show()\n",
    "\n",
    "### v)\n",
    "\n",
    "my_testing_flattened = []\n",
    "\n",
    "my_testing_flattened = my_test_image.flatten() # Flattening fo the image\n",
    "my_B_testing_matrix = np.matrix(my_testing_flattened) ## Storing the image in the the matrix\n",
    "\n",
    "my_Normalized_test = my_B_testing_matrix.T - mean_matrix ## Normalizing the matri by subtracting the mean\n",
    "\n",
    "my_image_testing_weights = my_Normalized_test.T@eigen_faces[:10][:].T # Getting testing weights using the images\n",
    "\n",
    "val_my = np.zeros((135))\n",
    "\n",
    "for j in range(135):\n",
    "    val_my[j] = np.linalg.norm(training_weights[:][j] - my_image_testing_weights) # Calculating the norm for the image so as to the difference between the images and it is easier to see which one is closer\n",
    "    \n",
    "sort_index_array_for_my_image = sorted(range(len(val_my)), key=lambda k: val_my[k]) # Sorting the array and extracting the index accordingly\n",
    "\n",
    "sort_index_array_for_my_image = sort_index_array_for_my_image[:3]\n",
    "\n",
    "# Plotting the image closest to my image\n",
    "for h in range(len(sort_index_array_for_my_image)):\n",
    "    plt.imshow(image_array_formed[sort_index_array_for_my_image[h]],cmap = \"gray\")\n",
    "    plt.title(\"Images similar to my images\")\n",
    "    plt.show()\n",
    "\n",
    "plt.imshow(my_test_image, cmap = \"gray\")\n",
    "plt.title(\"My Image\")\n",
    "plt.show()\n",
    "\n",
    "### vi)\n",
    "\n",
    "image_array_formed = []\n",
    "flattened = []\n",
    "\n",
    "for a in glob.glob('Yale-FaceA/trainingset/*.png'):\n",
    "    my_image = cv2.imread(a,0) # Reading the images from the training dataset\n",
    "    my_image = np.asarray(my_image,dtype = 'uint8')\n",
    "    image_array_formed.append(my_image) ## Append the values in the list\n",
    "    \n",
    "for j in range(len(image_array_formed)):\n",
    "    k = image_array_formed[j].flatten() ## Flattening of the image\n",
    "    flattened.append(k) ## Appending the flattened images in a list\n",
    "    \n",
    "A_t_matrix = np.matrix(flattened) ## Converting the flattened image list to an matrix\n",
    "\n",
    "A_t_matrix = A_t_matrix.T - mean_matrix #Normalizing the matrix\n",
    "\n",
    "Covariance_matrix = (A_t_matrix.T@A_t_matrix/(len(A_t_matrix) - 1))  ## Calculating the covariance of the matrix\n",
    "\n",
    "u,v = np.linalg.eigh(Covariance_matrix) ## Calculating the eigenvector and eigenvalues\n",
    "\n",
    "u = u.tolist()\n",
    "u_index = sorted(range(len(u)), key=lambda k: u[k]) # Getting the index of the sorted array\n",
    "u = sorted(u, reverse=True)\n",
    "u = np.matrix(u)\n",
    "\n",
    "v = v.tolist()\n",
    "v.sort(key = lambda u_index: u_index) # Sorting the eigenvectors according to the index of the eigenvalues\n",
    "v = np.asmatrix(v)\n",
    "v = v[::-1]\n",
    "\n",
    "eigen_faces = np.dot(A_t_matrix,v) # Dot product of the two matrix to make eigenface\n",
    "\n",
    "eigen_faces = eigen_faces.T\n",
    "\n",
    "training_weights = A_t_matrix.T@eigen_faces[:10][:].T # Top 10 principal components is used for the training weights\n",
    "\n",
    "testing_image_array_formed = []\n",
    "testing_flattened = []\n",
    "\n",
    "for i in glob.glob('Yale-FaceA/testset/*.png'):\n",
    "    im = cv2.imread(i,0) # Reading the test image dataset\n",
    "    im = np.asarray(im, dtype = 'uint8') ## Conversion of the matrix\n",
    "    testing_image_array_formed.append(im) ## Appending the values in the list\n",
    "    \n",
    "for j in range(len(testing_image_array_formed)):\n",
    "    k = testing_image_array_formed[j].flatten()  ## Flattening of the image\n",
    "    testing_flattened.append(k) ## Appending the flattened image into a list\n",
    "B_testing_matrix = np.matrix(testing_flattened)\n",
    "\n",
    "Normalized_test = B_testing_matrix.T - mean_matrix # Normalization of the test image matrix\n",
    "\n",
    "testing_weights = Normalized_test.T@eigen_faces[:10][:].T # Top 10 principal components is used for the testing weights\n",
    "\n",
    "val = np.zeros((11,144))\n",
    "diff_array = []\n",
    "\n",
    "for i in range(11):\n",
    "    for j in range(144):\n",
    "        val[i][j] = np.linalg.norm(training_weights[:][j] - testing_weights[:][i]) # Calculating the norm for the image so as to the difference between the images and it is easier to see which one is closer\n",
    "        \n",
    "sort_index_array1 = np.zeros((11,3))\n",
    "\n",
    "for b in range(11):\n",
    "    sort_index_array = sorted(range(len(val[b][:])), key=lambda k: val[b][:][k])\n",
    "    sort_index_array1[b][:] = sort_index_array[:3]\n",
    "    \n",
    "for m in range(3):\n",
    "    plt.title(\"Training image with most similarity with test image of index\" + str(int(10)))\n",
    "    plt.imshow(image_array_formed[int(sort_index_array1[:][10][m])], cmap = \"gray\")\n",
    "    plt.show()\n",
    "plt.title(\"Testing Image of Index\" + str(int(10)))\n",
    "plt.imshow(testing_image_array_formed[10], cmap = \"gray\")\n",
    "plt.show()"
   ]
  },
  {
   "cell_type": "code",
   "execution_count": null,
   "metadata": {},
   "outputs": [],
   "source": []
  }
 ],
 "metadata": {
  "kernelspec": {
   "display_name": "Python 3",
   "language": "python",
   "name": "python3"
  },
  "language_info": {
   "codemirror_mode": {
    "name": "ipython",
    "version": 3
   },
   "file_extension": ".py",
   "mimetype": "text/x-python",
   "name": "python",
   "nbconvert_exporter": "python",
   "pygments_lexer": "ipython3",
   "version": "3.7.1"
  }
 },
 "nbformat": 4,
 "nbformat_minor": 2
}
